{
 "cells": [
  {
   "cell_type": "markdown",
   "metadata": {},
   "source": [
    "# Análise dos Dados"
   ]
  },
  {
   "cell_type": "code",
   "execution_count": 107,
   "metadata": {},
   "outputs": [],
   "source": [
    "import pandas as pd\n",
    "from datetime import datetime\n"
   ]
  },
  {
   "cell_type": "code",
   "execution_count": 108,
   "metadata": {},
   "outputs": [],
   "source": [
    "#Importando e corrigindo o nome das colunas\n",
    "fazendeiros = pd.read_excel(\"planilhas/dadosFazendeiros.xlsx\", engine = \"openpyxl\")\n",
    "transbordo = pd.read_csv(\"planilhas/dadosTransbordo.csv\", sep= \";\")\n",
    "fazendeiros.rename(columns = {'DAT.ENT':'data', 'HOR.DIG':'hora', 'NOME UNID.':'unidade', 'PESO2':'peso'}, inplace = True)\n",
    "transbordo.rename(columns = {'DT ENT':'data', 'HORA':'hora', 'NOME DESTINO':'unidade', ' TAR DES ':'peso'}, inplace = True)\n"
   ]
  },
  {
   "cell_type": "code",
   "execution_count": 109,
   "metadata": {},
   "outputs": [
    {
     "name": "stdout",
     "output_type": "stream",
     "text": [
      "Tamanho das tabelas:\n",
      "\n",
      "Floresta:\n",
      "Fazedeiro = 12045\n",
      "Transbordo = 132\n",
      "Total = 12177\n",
      "\n",
      "Maringa\n",
      "Fazendeiro = 8287\n",
      "Transbordo = 82687\n",
      "Total = 90974\n"
     ]
    }
   ],
   "source": [
    "# Selecionado apenas os dados importantes\n",
    "\n",
    "florestaFazendeiros = fazendeiros[fazendeiros.unidade == \"FLORESTA                 \"]\n",
    "florestaTransbordo = transbordo[transbordo.unidade == \"FLORESTA\"]\n",
    "maringaFazendeiros = fazendeiros[fazendeiros.unidade == \"FABRICA DE OLEO          \"]\n",
    "maringaTransbordo = transbordo[transbordo.unidade == \"FABRICA DE OLEO\"]\n",
    "\n",
    "# Juntando os dados\n",
    "print(\"Tamanho das tabelas:\")\n",
    "print(\"\")\n",
    "print(\"Floresta:\")\n",
    "print(f\"Fazedeiro = {len(florestaFazendeiros)}\")\n",
    "print(f\"Transbordo = {len(florestaTransbordo)}\")\n",
    "print(f\"Total = {len(florestaTransbordo) + len(florestaFazendeiros)}\")\n",
    "print(\"\")\n",
    "print(\"Maringa\")\n",
    "print(f\"Fazendeiro = {len(maringaFazendeiros)}\")\n",
    "print(f\"Transbordo = {len(maringaTransbordo)}\")\n",
    "print(f\"Total = {len(maringaTransbordo) + len(maringaFazendeiros)}\")\n",
    "\n"
   ]
  },
  {
   "cell_type": "markdown",
   "metadata": {},
   "source": [
    "### Correção dos dados de **data** e **hora** "
   ]
  },
  {
   "cell_type": "markdown",
   "metadata": {},
   "source": [
    "#### Dados do Transbordo"
   ]
  },
  {
   "cell_type": "code",
   "execution_count": 110,
   "metadata": {},
   "outputs": [
    {
     "name": "stderr",
     "output_type": "stream",
     "text": [
      "C:\\Users\\Djonathan Quadras\\AppData\\Local\\Temp\\ipykernel_19720\\4037260347.py:24: SettingWithCopyWarning: \n",
      "A value is trying to be set on a copy of a slice from a DataFrame.\n",
      "Try using .loc[row_indexer,col_indexer] = value instead\n",
      "\n",
      "See the caveats in the documentation: https://pandas.pydata.org/pandas-docs/stable/user_guide/indexing.html#returning-a-view-versus-a-copy\n",
      "  maringaTransbordo['data'] = maringaTransbordo['data'].apply(lambda x: to_date_costum(x))\n",
      "C:\\Users\\Djonathan Quadras\\AppData\\Local\\Temp\\ipykernel_19720\\4037260347.py:25: SettingWithCopyWarning: \n",
      "A value is trying to be set on a copy of a slice from a DataFrame.\n",
      "Try using .loc[row_indexer,col_indexer] = value instead\n",
      "\n",
      "See the caveats in the documentation: https://pandas.pydata.org/pandas-docs/stable/user_guide/indexing.html#returning-a-view-versus-a-copy\n",
      "  florestaTransbordo['data'] = florestaTransbordo['data'].apply(lambda x: to_date_costum(x))\n",
      "C:\\Users\\Djonathan Quadras\\AppData\\Local\\Temp\\ipykernel_19720\\4037260347.py:28: SettingWithCopyWarning: \n",
      "A value is trying to be set on a copy of a slice from a DataFrame.\n",
      "Try using .loc[row_indexer,col_indexer] = value instead\n",
      "\n",
      "See the caveats in the documentation: https://pandas.pydata.org/pandas-docs/stable/user_guide/indexing.html#returning-a-view-versus-a-copy\n",
      "  maringaTransbordo['hora'] = maringaTransbordo['hora'].apply(lambda x: to_hour_costum(x))\n",
      "C:\\Users\\Djonathan Quadras\\AppData\\Local\\Temp\\ipykernel_19720\\4037260347.py:29: SettingWithCopyWarning: \n",
      "A value is trying to be set on a copy of a slice from a DataFrame.\n",
      "Try using .loc[row_indexer,col_indexer] = value instead\n",
      "\n",
      "See the caveats in the documentation: https://pandas.pydata.org/pandas-docs/stable/user_guide/indexing.html#returning-a-view-versus-a-copy\n",
      "  florestaTransbordo['hora'] = florestaTransbordo['hora'].apply(lambda x: to_hour_costum(x))\n"
     ]
    }
   ],
   "source": [
    "#Função para correção da data\n",
    "def to_date_costum(dt):\n",
    "    data = \"\"\n",
    "    try:\n",
    "        stg = f\"{dt[0]}{dt[1]}-{dt[3]}{dt[4]}-{dt[6]}{dt[7]}{dt[8]}{dt[9]}\"\n",
    "        data = datetime.strptime(stg, '%d-%m-%Y').date()\n",
    "        return data\n",
    "    except:\n",
    "        data = \"ERRO\"\n",
    "        return data\n",
    "\n",
    "#Função para correção da hora\n",
    "\n",
    "def to_hour_costum(dt):\n",
    "    hora = \"\"\n",
    "    try:\n",
    "        hora = datetime.strptime(dt, '%H:%M').time()\n",
    "        return hora\n",
    "    except:\n",
    "        hora = \"ERRO\"\n",
    "        return hora\n",
    "\n",
    "# Correção da data\n",
    "maringaTransbordo['data'] = maringaTransbordo['data'].apply(lambda x: to_date_costum(x))\n",
    "florestaTransbordo['data'] = florestaTransbordo['data'].apply(lambda x: to_date_costum(x))\n",
    "\n",
    "# Correção da hora\n",
    "maringaTransbordo['hora'] = maringaTransbordo['hora'].apply(lambda x: to_hour_costum(x))\n",
    "florestaTransbordo['hora'] = florestaTransbordo['hora'].apply(lambda x: to_hour_costum(x))\n"
   ]
  },
  {
   "cell_type": "code",
   "execution_count": 111,
   "metadata": {},
   "outputs": [
    {
     "name": "stdout",
     "output_type": "stream",
     "text": [
      "Erro na data em Maringa = 1947\n",
      "Erro na data na Floresta = 0\n",
      "Erro na hora em Maringa = 1947\n",
      "Erro na hora na Floresta = 0\n"
     ]
    }
   ],
   "source": [
    "# Analise das linhas com erro na data\n",
    "print(f\"Erro na data em Maringa = {len(maringaTransbordo[maringaTransbordo.data == 'ERRO'])}\")\n",
    "print(f\"Erro na data na Floresta = {len(florestaTransbordo[florestaTransbordo.data == 'ERRO'])}\")\n",
    "print(f\"Erro na hora em Maringa = {len(maringaTransbordo[maringaTransbordo.hora == 'ERRO'])}\")\n",
    "print(f\"Erro na hora na Floresta = {len(florestaTransbordo[florestaTransbordo.hora == 'ERRO'])}\")"
   ]
  },
  {
   "cell_type": "code",
   "execution_count": 112,
   "metadata": {},
   "outputs": [
    {
     "name": "stdout",
     "output_type": "stream",
     "text": [
      "Linhas removidas de Maringa = 1947\n",
      "Linhas removidas da Floresta = 0\n"
     ]
    }
   ],
   "source": [
    "#Remocao das linhas com erro\n",
    "antesM = len(maringaTransbordo)\n",
    "antesF = len(florestaTransbordo)\n",
    "maringaTransbordo = maringaTransbordo[maringaTransbordo.data != 'ERRO']\n",
    "florestaTransbordo = florestaTransbordo[florestaTransbordo.data != 'ERRO']\n",
    "maringaTransbordo = maringaTransbordo[maringaTransbordo.hora != 'ERRO']\n",
    "florestaTransbordo = florestaTransbordo[florestaTransbordo.hora != 'ERRO']\n",
    "\n",
    "print(f\"Linhas removidas de Maringa = {antesM - len(maringaTransbordo)}\")\n",
    "print(f\"Linhas removidas da Floresta = {antesF - len(florestaTransbordo)}\")\n",
    "\n"
   ]
  },
  {
   "cell_type": "markdown",
   "metadata": {},
   "source": [
    "#### Dados dos Fazendeiros"
   ]
  },
  {
   "cell_type": "code",
   "execution_count": 113,
   "metadata": {},
   "outputs": [
    {
     "data": {
      "text/html": [
       "<div>\n",
       "<style scoped>\n",
       "    .dataframe tbody tr th:only-of-type {\n",
       "        vertical-align: middle;\n",
       "    }\n",
       "\n",
       "    .dataframe tbody tr th {\n",
       "        vertical-align: top;\n",
       "    }\n",
       "\n",
       "    .dataframe thead th {\n",
       "        text-align: right;\n",
       "    }\n",
       "</style>\n",
       "<table border=\"1\" class=\"dataframe\">\n",
       "  <thead>\n",
       "    <tr style=\"text-align: right;\">\n",
       "      <th></th>\n",
       "      <th>data</th>\n",
       "      <th>hora</th>\n",
       "      <th>unidade</th>\n",
       "      <th>peso</th>\n",
       "    </tr>\n",
       "  </thead>\n",
       "  <tbody>\n",
       "    <tr>\n",
       "      <th>26646</th>\n",
       "      <td>2019-02-11</td>\n",
       "      <td>19:52:17</td>\n",
       "      <td>FABRICA DE OLEO</td>\n",
       "      <td>4730.0</td>\n",
       "    </tr>\n",
       "    <tr>\n",
       "      <th>26647</th>\n",
       "      <td>2019-02-23</td>\n",
       "      <td>15:16:13</td>\n",
       "      <td>FABRICA DE OLEO</td>\n",
       "      <td>8300.0</td>\n",
       "    </tr>\n",
       "    <tr>\n",
       "      <th>26648</th>\n",
       "      <td>2019-08-05</td>\n",
       "      <td>14:08:36</td>\n",
       "      <td>FABRICA DE OLEO</td>\n",
       "      <td>2170.0</td>\n",
       "    </tr>\n",
       "    <tr>\n",
       "      <th>26649</th>\n",
       "      <td>2019-02-16</td>\n",
       "      <td>21:02:07</td>\n",
       "      <td>FABRICA DE OLEO</td>\n",
       "      <td>8280.0</td>\n",
       "    </tr>\n",
       "    <tr>\n",
       "      <th>26650</th>\n",
       "      <td>2019-02-25</td>\n",
       "      <td>20:24:37</td>\n",
       "      <td>FABRICA DE OLEO</td>\n",
       "      <td>19490.0</td>\n",
       "    </tr>\n",
       "    <tr>\n",
       "      <th>...</th>\n",
       "      <td>...</td>\n",
       "      <td>...</td>\n",
       "      <td>...</td>\n",
       "      <td>...</td>\n",
       "    </tr>\n",
       "    <tr>\n",
       "      <th>344699</th>\n",
       "      <td>2022-04-28</td>\n",
       "      <td>08:15:52</td>\n",
       "      <td>FABRICA DE OLEO</td>\n",
       "      <td>9580.0</td>\n",
       "    </tr>\n",
       "    <tr>\n",
       "      <th>344700</th>\n",
       "      <td>2022-04-27</td>\n",
       "      <td>16:04:52</td>\n",
       "      <td>FABRICA DE OLEO</td>\n",
       "      <td>17160.0</td>\n",
       "    </tr>\n",
       "    <tr>\n",
       "      <th>344701</th>\n",
       "      <td>2022-04-28</td>\n",
       "      <td>09:44:13</td>\n",
       "      <td>FABRICA DE OLEO</td>\n",
       "      <td>7600.0</td>\n",
       "    </tr>\n",
       "    <tr>\n",
       "      <th>344702</th>\n",
       "      <td>2022-04-29</td>\n",
       "      <td>11:53:22</td>\n",
       "      <td>FABRICA DE OLEO</td>\n",
       "      <td>8960.0</td>\n",
       "    </tr>\n",
       "    <tr>\n",
       "      <th>344703</th>\n",
       "      <td>2022-04-27</td>\n",
       "      <td>16:11:33</td>\n",
       "      <td>FABRICA DE OLEO</td>\n",
       "      <td>8850.0</td>\n",
       "    </tr>\n",
       "  </tbody>\n",
       "</table>\n",
       "<p>8287 rows × 4 columns</p>\n",
       "</div>"
      ],
      "text/plain": [
       "             data      hora                    unidade     peso\n",
       "26646  2019-02-11  19:52:17  FABRICA DE OLEO             4730.0\n",
       "26647  2019-02-23  15:16:13  FABRICA DE OLEO             8300.0\n",
       "26648  2019-08-05  14:08:36  FABRICA DE OLEO             2170.0\n",
       "26649  2019-02-16  21:02:07  FABRICA DE OLEO             8280.0\n",
       "26650  2019-02-25  20:24:37  FABRICA DE OLEO            19490.0\n",
       "...           ...       ...                        ...      ...\n",
       "344699 2022-04-28  08:15:52  FABRICA DE OLEO             9580.0\n",
       "344700 2022-04-27  16:04:52  FABRICA DE OLEO            17160.0\n",
       "344701 2022-04-28  09:44:13  FABRICA DE OLEO             7600.0\n",
       "344702 2022-04-29  11:53:22  FABRICA DE OLEO             8960.0\n",
       "344703 2022-04-27  16:11:33  FABRICA DE OLEO             8850.0\n",
       "\n",
       "[8287 rows x 4 columns]"
      ]
     },
     "execution_count": 113,
     "metadata": {},
     "output_type": "execute_result"
    }
   ],
   "source": [
    "maringaFazendeiros"
   ]
  },
  {
   "cell_type": "code",
   "execution_count": 114,
   "metadata": {},
   "outputs": [
    {
     "name": "stderr",
     "output_type": "stream",
     "text": [
      "C:\\Users\\Djonathan Quadras\\AppData\\Local\\Temp\\ipykernel_19720\\3204385142.py:2: SettingWithCopyWarning: \n",
      "A value is trying to be set on a copy of a slice from a DataFrame.\n",
      "Try using .loc[row_indexer,col_indexer] = value instead\n",
      "\n",
      "See the caveats in the documentation: https://pandas.pydata.org/pandas-docs/stable/user_guide/indexing.html#returning-a-view-versus-a-copy\n",
      "  maringaFazendeiros['data'] = maringaFazendeiros['data'].apply(lambda x: x.date())\n",
      "C:\\Users\\Djonathan Quadras\\AppData\\Local\\Temp\\ipykernel_19720\\3204385142.py:3: SettingWithCopyWarning: \n",
      "A value is trying to be set on a copy of a slice from a DataFrame.\n",
      "Try using .loc[row_indexer,col_indexer] = value instead\n",
      "\n",
      "See the caveats in the documentation: https://pandas.pydata.org/pandas-docs/stable/user_guide/indexing.html#returning-a-view-versus-a-copy\n",
      "  florestaFazendeiros['data'] = florestaFazendeiros['data'].apply(lambda x: x.date())\n"
     ]
    }
   ],
   "source": [
    "# Correção da data\n",
    "maringaFazendeiros['data'] = maringaFazendeiros['data'].apply(lambda x: x.date())\n",
    "florestaFazendeiros['data'] = florestaFazendeiros['data'].apply(lambda x: x.date())\n"
   ]
  },
  {
   "cell_type": "code",
   "execution_count": 115,
   "metadata": {},
   "outputs": [
    {
     "name": "stdout",
     "output_type": "stream",
     "text": [
      "<------------------- TRANSBORDO ------------------->\n",
      "<class 'datetime.date'>\n",
      "<class 'datetime.time'>\n",
      "             data      hora          unidade      peso\n",
      "10732  2018-02-14  17:47:00  FABRICA DE OLEO    7.480 \n",
      "10733  2018-02-15  09:43:00  FABRICA DE OLEO    7.480 \n",
      "10734  2018-02-15  11:31:00  FABRICA DE OLEO    7.180 \n",
      "10735  2018-02-16  11:39:00  FABRICA DE OLEO   16.830 \n",
      "10736  2018-02-15  18:19:00  FABRICA DE OLEO    7.480 \n",
      "\n",
      "\n",
      "<------------------- FAZENDEIRO ------------------->\n",
      "<class 'datetime.date'>\n",
      "<class 'datetime.time'>\n",
      "             data      hora                    unidade     peso\n",
      "26646  2019-02-11  19:52:17  FABRICA DE OLEO             4730.0\n",
      "26647  2019-02-23  15:16:13  FABRICA DE OLEO             8300.0\n",
      "26648  2019-08-05  14:08:36  FABRICA DE OLEO             2170.0\n",
      "26649  2019-02-16  21:02:07  FABRICA DE OLEO             8280.0\n",
      "26650  2019-02-25  20:24:37  FABRICA DE OLEO            19490.0\n"
     ]
    }
   ],
   "source": [
    "# Análise Maringá\n",
    "print(\"<------------------- TRANSBORDO ------------------->\")\n",
    "print(type(maringaTransbordo.data.to_list()[0]))\n",
    "print(type(maringaTransbordo.hora.to_list()[0]))\n",
    "print(maringaTransbordo.head())\n",
    "print(\"\")\n",
    "print(\"\")\n",
    "\n",
    "print(\"<------------------- FAZENDEIRO ------------------->\")\n",
    "print(type(maringaFazendeiros.data.to_list()[0]))\n",
    "print(type(maringaFazendeiros.hora.to_list()[0]))\n",
    "print(maringaFazendeiros.head())"
   ]
  },
  {
   "cell_type": "code",
   "execution_count": 116,
   "metadata": {},
   "outputs": [
    {
     "name": "stdout",
     "output_type": "stream",
     "text": [
      "<------------------- TRANSBORDO ------------------->\n",
      "<class 'datetime.date'>\n",
      "<class 'datetime.time'>\n",
      "           data      hora   unidade      peso\n",
      "236  2021-03-10  20:09:00  FLORESTA   17.800 \n",
      "237  2021-03-10  21:26:00  FLORESTA   17.630 \n",
      "238  2021-03-10  22:10:00  FLORESTA   15.770 \n",
      "239  2021-03-11  08:27:00  FLORESTA   15.220 \n",
      "240  2021-03-11  08:48:00  FLORESTA   15.640 \n",
      "\n",
      "\n",
      "<------------------- FAZENDEIRO ------------------->\n",
      "<class 'datetime.date'>\n",
      "<class 'datetime.time'>\n",
      "            data      hora                    unidade    peso\n",
      "7331  2019-02-09  21:11:02  FLORESTA                   7760.0\n",
      "7332  2019-02-25  09:36:10  FLORESTA                   5550.0\n",
      "7333  2019-03-28  10:24:43  FLORESTA                   3310.0\n",
      "7334  2019-02-19  17:51:24  FLORESTA                   8020.0\n",
      "7335  2019-02-22  19:32:48  FLORESTA                   7770.0\n"
     ]
    }
   ],
   "source": [
    "# Análise Floresta\n",
    "print(\"<------------------- TRANSBORDO ------------------->\")\n",
    "print(type(florestaTransbordo.data.to_list()[0]))\n",
    "print(type(florestaTransbordo.hora.to_list()[0]))\n",
    "print(florestaTransbordo.head())\n",
    "print(\"\")\n",
    "print(\"\")\n",
    "\n",
    "print(\"<------------------- FAZENDEIRO ------------------->\")\n",
    "print(type(florestaFazendeiros.data.to_list()[0]))\n",
    "print(type(florestaFazendeiros.hora.to_list()[0]))\n",
    "print(florestaFazendeiros.head())"
   ]
  },
  {
   "cell_type": "markdown",
   "metadata": {},
   "source": [
    "#### Corrigindo os Pesos"
   ]
  },
  {
   "cell_type": "code",
   "execution_count": 117,
   "metadata": {},
   "outputs": [
    {
     "name": "stdout",
     "output_type": "stream",
     "text": [
      "Linhas removidas de Maringa = 45\n",
      "Linhas removidas da Floresta = 0\n"
     ]
    }
   ],
   "source": [
    "def corrigePeso(x):\n",
    "    try:\n",
    "        return float(x.replace(\".\", \"\"))\n",
    "    except:\n",
    "        return \"ERRO\"\n",
    "\n",
    "maringaTransbordo['peso'] = maringaTransbordo['peso'].apply(lambda x: corrigePeso(x))\n",
    "florestaTransbordo['peso'] = florestaTransbordo['peso'].apply(lambda x: corrigePeso(x))\n",
    "\n",
    "#Remocao das linhas com erro\n",
    "antesM = len(maringaTransbordo)\n",
    "antesF = len(florestaTransbordo)\n",
    "maringaTransbordo = maringaTransbordo[maringaTransbordo.peso != 'ERRO']\n",
    "florestaTransbordo = florestaTransbordo[florestaTransbordo.peso != 'ERRO']\n",
    "\n",
    "print(f\"Linhas removidas de Maringa = {antesM - len(maringaTransbordo)}\")\n",
    "print(f\"Linhas removidas da Floresta = {antesF - len(florestaTransbordo)}\")"
   ]
  },
  {
   "cell_type": "markdown",
   "metadata": {},
   "source": [
    "### Juntando as duas bases de dados"
   ]
  },
  {
   "cell_type": "code",
   "execution_count": 118,
   "metadata": {},
   "outputs": [],
   "source": [
    "# combina todos os dados de data e hora\n",
    "datetimeFlorestaFazendeiros = []\n",
    "for i in range(0,len(florestaFazendeiros)):\n",
    "    temp1 = florestaFazendeiros.data.to_list()[i]\n",
    "    temp2 = florestaFazendeiros.hora.to_list()[i]\n",
    "    datetimeFlorestaFazendeiros.append(datetime.combine(temp1, temp2))\n",
    "\n",
    "datetimeFlorestaTransbordo = []\n",
    "for i in range(0,len(florestaTransbordo)):\n",
    "    temp1 = florestaTransbordo.data.to_list()[i]\n",
    "    temp2 = florestaTransbordo.hora.to_list()[i]\n",
    "    datetimeFlorestaTransbordo.append(datetime.combine(temp1, temp2))\n",
    "\n",
    "datetimeMaringaFazendeiros = []\n",
    "for i in range(0,len(maringaFazendeiros)):\n",
    "    temp1 = maringaFazendeiros.data.to_list()[i]\n",
    "    temp2 = maringaFazendeiros.hora.to_list()[i]\n",
    "    datetimeMaringaFazendeiros.append(datetime.combine(temp1, temp2))\n",
    "\n",
    "datetimeMaringaTransbordo = []\n",
    "for i in range(0,len(maringaTransbordo)):\n",
    "    temp1 = maringaTransbordo.data.to_list()[i]\n",
    "    temp2 = maringaTransbordo.hora.to_list()[i]\n",
    "    datetimeMaringaTransbordo.append(datetime.combine(temp1, temp2))\n"
   ]
  },
  {
   "cell_type": "code",
   "execution_count": 119,
   "metadata": {},
   "outputs": [],
   "source": [
    "# Cria a coluna com data e hora nas databases\n",
    "florestaFazendeiros.insert(1, \"dataCerta\", datetimeFlorestaFazendeiros)\n",
    "florestaTransbordo.insert(1, \"dataCerta\", datetimeFlorestaTransbordo)\n",
    "maringaFazendeiros.insert(1, \"dataCerta\", datetimeMaringaFazendeiros)\n",
    "maringaTransbordo.insert(1, \"dataCerta\", datetimeMaringaTransbordo)"
   ]
  },
  {
   "cell_type": "code",
   "execution_count": 120,
   "metadata": {},
   "outputs": [],
   "source": [
    "#Junta as bases de Fazendeiros e de Transbordo\n",
    "floresta = pd.concat([florestaFazendeiros, florestaTransbordo])\n",
    "maringa = pd.concat([maringaFazendeiros, maringaTransbordo])\n",
    "\n",
    "# Remove colunas desnecessárias\n",
    "floresta = floresta[[\"dataCerta\", \"unidade\", \"peso\"]]\n",
    "maringa = maringa[[\"dataCerta\", \"unidade\", \"peso\"]]\n",
    "\n"
   ]
  },
  {
   "cell_type": "code",
   "execution_count": 121,
   "metadata": {},
   "outputs": [],
   "source": [
    "# Exporta as tabelas finais\n",
    "floresta.to_excel(\"planilhas/floresta.xlsx\", )\n",
    "maringa.to_excel(\"planilhas/maringa.xlsx\")"
   ]
  }
 ],
 "metadata": {
  "interpreter": {
   "hash": "03abcd2623127dd9dcc5f33a6bf735573f61ba8b7aefdbfbb6753f055e79c3ab"
  },
  "kernelspec": {
   "display_name": "Python 3.9.0 ('.env': venv)",
   "language": "python",
   "name": "python3"
  },
  "language_info": {
   "codemirror_mode": {
    "name": "ipython",
    "version": 3
   },
   "file_extension": ".py",
   "mimetype": "text/x-python",
   "name": "python",
   "nbconvert_exporter": "python",
   "pygments_lexer": "ipython3",
   "version": "3.9.0"
  },
  "orig_nbformat": 4
 },
 "nbformat": 4,
 "nbformat_minor": 2
}
