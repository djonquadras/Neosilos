{
 "cells": [
  {
   "cell_type": "markdown",
   "metadata": {},
   "source": [
    "# Análise de Dados - Setor Floresta"
   ]
  },
  {
   "cell_type": "code",
   "execution_count": null,
   "metadata": {},
   "outputs": [],
   "source": [
    "import pandas as pd\n",
    "from datetime import datetime\n",
    "import sklearn as skl"
   ]
  }
 ],
 "metadata": {
  "interpreter": {
   "hash": "03abcd2623127dd9dcc5f33a6bf735573f61ba8b7aefdbfbb6753f055e79c3ab"
  },
  "kernelspec": {
   "display_name": "Python 3.9.0 ('.env': venv)",
   "language": "python",
   "name": "python3"
  },
  "language_info": {
   "name": "python",
   "version": "3.9.0"
  },
  "orig_nbformat": 4
 },
 "nbformat": 4,
 "nbformat_minor": 2
}
