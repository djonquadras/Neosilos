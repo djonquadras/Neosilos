{
 "cells": [
  {
   "cell_type": "markdown",
   "metadata": {},
   "source": [
    "# Análise de Dados - Setor Floresta"
   ]
  },
  {
   "cell_type": "code",
   "execution_count": 2,
   "metadata": {},
   "outputs": [],
   "source": [
    "import pandas as pd\n",
    "from datetime import datetime\n",
    "import sklearn as skl"
   ]
  },
  {
   "cell_type": "code",
   "execution_count": 3,
   "metadata": {},
   "outputs": [
    {
     "name": "stderr",
     "output_type": "stream",
     "text": [
      "d:\\GithubDjonathan\\Neosilos\\.env\\lib\\site-packages\\openpyxl\\styles\\stylesheet.py:226: UserWarning: Workbook contains no default style, apply openpyxl's default\n",
      "  warn(\"Workbook contains no default style, apply openpyxl's default\")\n",
      "d:\\GithubDjonathan\\Neosilos\\.env\\lib\\site-packages\\openpyxl\\styles\\stylesheet.py:226: UserWarning: Workbook contains no default style, apply openpyxl's default\n",
      "  warn(\"Workbook contains no default style, apply openpyxl's default\")\n",
      "d:\\GithubDjonathan\\Neosilos\\.env\\lib\\site-packages\\openpyxl\\styles\\stylesheet.py:226: UserWarning: Workbook contains no default style, apply openpyxl's default\n",
      "  warn(\"Workbook contains no default style, apply openpyxl's default\")\n",
      "d:\\GithubDjonathan\\Neosilos\\.env\\lib\\site-packages\\openpyxl\\styles\\stylesheet.py:226: UserWarning: Workbook contains no default style, apply openpyxl's default\n",
      "  warn(\"Workbook contains no default style, apply openpyxl's default\")\n"
     ]
    }
   ],
   "source": [
    "# Importa os Resultados do Setor Floresta\n",
    "Floresta1 = pd.read_excel(\"planilhas/ResultadosFloresta/comMaquina60Seg.xlsx\")\n",
    "Floresta2 = pd.read_excel(\"planilhas/ResultadosFloresta/comMaquina120Seg.xlsx\")\n",
    "Floresta3 = pd.read_excel(\"planilhas/ResultadosFloresta/semMaquinaCortando.xlsx\")\n",
    "Floresta4 = pd.read_excel(\"planilhas/ResultadosFloresta/semMaquinaSemCortar.xlsx\")\n"
   ]
  },
  {
   "cell_type": "code",
   "execution_count": 6,
   "metadata": {},
   "outputs": [
    {
     "name": "stderr",
     "output_type": "stream",
     "text": [
      "d:\\GithubDjonathan\\Neosilos\\.env\\lib\\site-packages\\openpyxl\\styles\\stylesheet.py:226: UserWarning: Workbook contains no default style, apply openpyxl's default\n",
      "  warn(\"Workbook contains no default style, apply openpyxl's default\")\n"
     ]
    },
    {
     "data": {
      "text/html": [
       "<div>\n",
       "<style scoped>\n",
       "    .dataframe tbody tr th:only-of-type {\n",
       "        vertical-align: middle;\n",
       "    }\n",
       "\n",
       "    .dataframe tbody tr th {\n",
       "        vertical-align: top;\n",
       "    }\n",
       "\n",
       "    .dataframe thead th {\n",
       "        text-align: right;\n",
       "    }\n",
       "</style>\n",
       "<table border=\"1\" class=\"dataframe\">\n",
       "  <thead>\n",
       "    <tr style=\"text-align: right;\">\n",
       "      <th></th>\n",
       "      <th>classificadores</th>\n",
       "      <th>tempo maquinas</th>\n",
       "      <th>equipamentos</th>\n",
       "      <th>corta os graos</th>\n",
       "      <th>data chegada</th>\n",
       "      <th>data saida</th>\n",
       "      <th>tempo fila</th>\n",
       "      <th>tempo processamento</th>\n",
       "    </tr>\n",
       "  </thead>\n",
       "  <tbody>\n",
       "    <tr>\n",
       "      <th>0</th>\n",
       "      <td>1.0</td>\n",
       "      <td>1.0</td>\n",
       "      <td>1.0</td>\n",
       "      <td>0.0</td>\n",
       "      <td>2019-01-02 08:26:28</td>\n",
       "      <td>2019-01-02 08:32:55.865</td>\n",
       "      <td>0.000000</td>\n",
       "      <td>6.464419</td>\n",
       "    </tr>\n",
       "    <tr>\n",
       "      <th>1</th>\n",
       "      <td>1.0</td>\n",
       "      <td>1.0</td>\n",
       "      <td>1.0</td>\n",
       "      <td>0.0</td>\n",
       "      <td>2019-01-02 13:56:12</td>\n",
       "      <td>2019-01-02 14:01:11.487</td>\n",
       "      <td>0.000000</td>\n",
       "      <td>4.991464</td>\n",
       "    </tr>\n",
       "    <tr>\n",
       "      <th>2</th>\n",
       "      <td>1.0</td>\n",
       "      <td>1.0</td>\n",
       "      <td>1.0</td>\n",
       "      <td>0.0</td>\n",
       "      <td>2019-01-02 14:58:19</td>\n",
       "      <td>2019-01-02 15:03:04.327</td>\n",
       "      <td>0.000000</td>\n",
       "      <td>4.755463</td>\n",
       "    </tr>\n",
       "    <tr>\n",
       "      <th>3</th>\n",
       "      <td>1.0</td>\n",
       "      <td>1.0</td>\n",
       "      <td>1.0</td>\n",
       "      <td>0.0</td>\n",
       "      <td>2019-01-02 14:58:19</td>\n",
       "      <td>2019-01-02 15:07:57.111</td>\n",
       "      <td>4.755463</td>\n",
       "      <td>4.879733</td>\n",
       "    </tr>\n",
       "    <tr>\n",
       "      <th>4</th>\n",
       "      <td>1.0</td>\n",
       "      <td>1.0</td>\n",
       "      <td>1.0</td>\n",
       "      <td>0.0</td>\n",
       "      <td>2019-01-02 15:07:06</td>\n",
       "      <td>2019-01-02 15:12:42.347</td>\n",
       "      <td>0.851863</td>\n",
       "      <td>4.753932</td>\n",
       "    </tr>\n",
       "  </tbody>\n",
       "</table>\n",
       "</div>"
      ],
      "text/plain": [
       "   classificadores  tempo maquinas  equipamentos  corta os graos  \\\n",
       "0              1.0             1.0           1.0             0.0   \n",
       "1              1.0             1.0           1.0             0.0   \n",
       "2              1.0             1.0           1.0             0.0   \n",
       "3              1.0             1.0           1.0             0.0   \n",
       "4              1.0             1.0           1.0             0.0   \n",
       "\n",
       "         data chegada              data saida  tempo fila  tempo processamento  \n",
       "0 2019-01-02 08:26:28 2019-01-02 08:32:55.865    0.000000             6.464419  \n",
       "1 2019-01-02 13:56:12 2019-01-02 14:01:11.487    0.000000             4.991464  \n",
       "2 2019-01-02 14:58:19 2019-01-02 15:03:04.327    0.000000             4.755463  \n",
       "3 2019-01-02 14:58:19 2019-01-02 15:07:57.111    4.755463             4.879733  \n",
       "4 2019-01-02 15:07:06 2019-01-02 15:12:42.347    0.851863             4.753932  "
      ]
     },
     "execution_count": 6,
     "metadata": {},
     "output_type": "execute_result"
    }
   ],
   "source": [
    "data2 = pd.read_excel(\"planilhas/ResultadosFloresta/resultadosDatabase.xlsx\")\n",
    "data2.head()"
   ]
  }
 ],
 "metadata": {
  "interpreter": {
   "hash": "03abcd2623127dd9dcc5f33a6bf735573f61ba8b7aefdbfbb6753f055e79c3ab"
  },
  "kernelspec": {
   "display_name": "Python 3.9.0 ('.env': venv)",
   "language": "python",
   "name": "python3"
  },
  "language_info": {
   "codemirror_mode": {
    "name": "ipython",
    "version": 3
   },
   "file_extension": ".py",
   "mimetype": "text/x-python",
   "name": "python",
   "nbconvert_exporter": "python",
   "pygments_lexer": "ipython3",
   "version": "3.9.0"
  },
  "orig_nbformat": 4
 },
 "nbformat": 4,
 "nbformat_minor": 2
}
