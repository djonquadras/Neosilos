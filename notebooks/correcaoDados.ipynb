{
 "cells": [
  {
   "cell_type": "markdown",
   "metadata": {},
   "source": [
    "# Coreção dos Dados"
   ]
  },
  {
   "cell_type": "code",
   "execution_count": null,
   "metadata": {},
   "outputs": [],
   "source": [
    "import pandas as pd\n",
    "from datetime import datetime\n"
   ]
  },
  {
   "cell_type": "code",
   "execution_count": null,
   "metadata": {},
   "outputs": [],
   "source": [
    "#Importando e corrigindo o nome das colunas\n",
    "fazendeiros = pd.read_excel(\"planilhas/dadosFazendeiros.xlsx\", engine = \"openpyxl\")\n",
    "transbordo = pd.read_csv(\"planilhas/dadosTransbordo.csv\", sep= \";\")\n",
    "fazendeiros.rename(columns = {'DAT.ENT':'data', 'HOR.DIG':'hora', 'NOME UNID.':'unidade', 'PESO2':'peso'}, inplace = True)\n",
    "transbordo.rename(columns = {'DT ENT':'data', 'HORA':'hora', 'NOME DESTINO':'unidade', ' TAR DES ':'peso'}, inplace = True)\n"
   ]
  },
  {
   "cell_type": "code",
   "execution_count": null,
   "metadata": {},
   "outputs": [],
   "source": [
    "# Selecionado apenas os dados importantes\n",
    "\n",
    "florestaFazendeiros = fazendeiros[fazendeiros.unidade == \"FLORESTA                 \"]\n",
    "florestaTransbordo = transbordo[transbordo.unidade == \"FLORESTA\"]\n",
    "maringaFazendeiros = fazendeiros[fazendeiros.unidade == \"FABRICA DE OLEO          \"]\n",
    "maringaTransbordo = transbordo[transbordo.unidade == \"FABRICA DE OLEO\"]\n",
    "\n",
    "# Juntando os dados\n",
    "print(\"Tamanho das tabelas:\")\n",
    "print(\"\")\n",
    "print(\"Floresta:\")\n",
    "print(f\"Fazedeiro = {len(florestaFazendeiros)}\")\n",
    "print(f\"Transbordo = {len(florestaTransbordo)}\")\n",
    "print(f\"Total = {len(florestaTransbordo) + len(florestaFazendeiros)}\")\n",
    "print(\"\")\n",
    "print(\"Maringa\")\n",
    "print(f\"Fazendeiro = {len(maringaFazendeiros)}\")\n",
    "print(f\"Transbordo = {len(maringaTransbordo)}\")\n",
    "print(f\"Total = {len(maringaTransbordo) + len(maringaFazendeiros)}\")\n",
    "\n"
   ]
  },
  {
   "cell_type": "markdown",
   "metadata": {},
   "source": [
    "### Correção dos dados de **data** e **hora** "
   ]
  },
  {
   "cell_type": "markdown",
   "metadata": {},
   "source": [
    "#### Dados do Transbordo"
   ]
  },
  {
   "cell_type": "code",
   "execution_count": null,
   "metadata": {},
   "outputs": [],
   "source": [
    "#Função para correção da data\n",
    "def to_date_costum(dt):\n",
    "    data = \"\"\n",
    "    try:\n",
    "        stg = f\"{dt[0]}{dt[1]}-{dt[3]}{dt[4]}-{dt[6]}{dt[7]}{dt[8]}{dt[9]}\"\n",
    "        data = datetime.strptime(stg, '%d-%m-%Y').date()\n",
    "        return data\n",
    "    except:\n",
    "        data = \"ERRO\"\n",
    "        return data\n",
    "\n",
    "#Função para correção da hora\n",
    "\n",
    "def to_hour_costum(dt):\n",
    "    hora = \"\"\n",
    "    try:\n",
    "        hora = datetime.strptime(dt, '%H:%M').time()\n",
    "        return hora\n",
    "    except:\n",
    "        hora = \"ERRO\"\n",
    "        return hora\n",
    "\n",
    "# Correção da data\n",
    "maringaTransbordo['data'] = maringaTransbordo['data'].apply(lambda x: to_date_costum(x))\n",
    "florestaTransbordo['data'] = florestaTransbordo['data'].apply(lambda x: to_date_costum(x))\n",
    "\n",
    "# Correção da hora\n",
    "maringaTransbordo['hora'] = maringaTransbordo['hora'].apply(lambda x: to_hour_costum(x))\n",
    "florestaTransbordo['hora'] = florestaTransbordo['hora'].apply(lambda x: to_hour_costum(x))\n"
   ]
  },
  {
   "cell_type": "code",
   "execution_count": null,
   "metadata": {},
   "outputs": [],
   "source": [
    "# Analise das linhas com erro na data\n",
    "print(f\"Erro na data em Maringa = {len(maringaTransbordo[maringaTransbordo.data == 'ERRO'])}\")\n",
    "print(f\"Erro na data na Floresta = {len(florestaTransbordo[florestaTransbordo.data == 'ERRO'])}\")\n",
    "print(f\"Erro na hora em Maringa = {len(maringaTransbordo[maringaTransbordo.hora == 'ERRO'])}\")\n",
    "print(f\"Erro na hora na Floresta = {len(florestaTransbordo[florestaTransbordo.hora == 'ERRO'])}\")"
   ]
  },
  {
   "cell_type": "code",
   "execution_count": null,
   "metadata": {},
   "outputs": [],
   "source": [
    "#Remocao das linhas com erro\n",
    "antesM = len(maringaTransbordo)\n",
    "antesF = len(florestaTransbordo)\n",
    "maringaTransbordo = maringaTransbordo[maringaTransbordo.data != 'ERRO']\n",
    "florestaTransbordo = florestaTransbordo[florestaTransbordo.data != 'ERRO']\n",
    "maringaTransbordo = maringaTransbordo[maringaTransbordo.hora != 'ERRO']\n",
    "florestaTransbordo = florestaTransbordo[florestaTransbordo.hora != 'ERRO']\n",
    "\n",
    "print(f\"Linhas removidas de Maringa = {antesM - len(maringaTransbordo)}\")\n",
    "print(f\"Linhas removidas da Floresta = {antesF - len(florestaTransbordo)}\")\n",
    "\n"
   ]
  },
  {
   "cell_type": "markdown",
   "metadata": {},
   "source": [
    "#### Dados dos Fazendeiros"
   ]
  },
  {
   "cell_type": "code",
   "execution_count": null,
   "metadata": {},
   "outputs": [],
   "source": [
    "# Correção da data\n",
    "maringaFazendeiros['data'] = maringaFazendeiros['data'].apply(lambda x: x.date())\n",
    "florestaFazendeiros['data'] = florestaFazendeiros['data'].apply(lambda x: x.date())\n"
   ]
  },
  {
   "cell_type": "code",
   "execution_count": null,
   "metadata": {},
   "outputs": [],
   "source": [
    "# Análise Maringá\n",
    "print(\"<------------------- TRANSBORDO ------------------->\")\n",
    "print(type(maringaTransbordo.data.to_list()[0]))\n",
    "print(type(maringaTransbordo.hora.to_list()[0]))\n",
    "print(maringaTransbordo.head())\n",
    "print(\"\")\n",
    "print(\"\")\n",
    "\n",
    "print(\"<------------------- FAZENDEIRO ------------------->\")\n",
    "print(type(maringaFazendeiros.data.to_list()[0]))\n",
    "print(type(maringaFazendeiros.hora.to_list()[0]))\n",
    "print(maringaFazendeiros.head())"
   ]
  },
  {
   "cell_type": "code",
   "execution_count": null,
   "metadata": {},
   "outputs": [],
   "source": [
    "# Análise Floresta\n",
    "print(\"<------------------- TRANSBORDO ------------------->\")\n",
    "print(type(florestaTransbordo.data.to_list()[0]))\n",
    "print(type(florestaTransbordo.hora.to_list()[0]))\n",
    "print(florestaTransbordo.head())\n",
    "print(\"\")\n",
    "print(\"\")\n",
    "\n",
    "print(\"<------------------- FAZENDEIRO ------------------->\")\n",
    "print(type(florestaFazendeiros.data.to_list()[0]))\n",
    "print(type(florestaFazendeiros.hora.to_list()[0]))\n",
    "print(florestaFazendeiros.head())"
   ]
  },
  {
   "cell_type": "markdown",
   "metadata": {},
   "source": [
    "#### Corrigindo os Pesos"
   ]
  },
  {
   "cell_type": "code",
   "execution_count": null,
   "metadata": {},
   "outputs": [],
   "source": [
    "def corrigePeso(x):\n",
    "    try:\n",
    "        return float(x.replace(\".\", \"\"))\n",
    "    except:\n",
    "        return \"ERRO\"\n",
    "\n",
    "maringaTransbordo['peso'] = maringaTransbordo['peso'].apply(lambda x: corrigePeso(x))\n",
    "florestaTransbordo['peso'] = florestaTransbordo['peso'].apply(lambda x: corrigePeso(x))\n",
    "\n",
    "#Remocao das linhas com erro\n",
    "antesM = len(maringaTransbordo)\n",
    "antesF = len(florestaTransbordo)\n",
    "maringaTransbordo = maringaTransbordo[maringaTransbordo.peso != 'ERRO']\n",
    "florestaTransbordo = florestaTransbordo[florestaTransbordo.peso != 'ERRO']\n",
    "\n",
    "print(f\"Linhas removidas de Maringa = {antesM - len(maringaTransbordo)}\")\n",
    "print(f\"Linhas removidas da Floresta = {antesF - len(florestaTransbordo)}\")"
   ]
  },
  {
   "cell_type": "markdown",
   "metadata": {},
   "source": [
    "### Juntando as duas bases de dados"
   ]
  },
  {
   "cell_type": "code",
   "execution_count": null,
   "metadata": {},
   "outputs": [],
   "source": [
    "# combina todos os dados de data e hora\n",
    "datetimeFlorestaFazendeiros = []\n",
    "for i in range(0,len(florestaFazendeiros)):\n",
    "    temp1 = florestaFazendeiros.data.to_list()[i]\n",
    "    temp2 = florestaFazendeiros.hora.to_list()[i]\n",
    "    datetimeFlorestaFazendeiros.append(datetime.combine(temp1, temp2))\n",
    "\n",
    "datetimeFlorestaTransbordo = []\n",
    "for i in range(0,len(florestaTransbordo)):\n",
    "    temp1 = florestaTransbordo.data.to_list()[i]\n",
    "    temp2 = florestaTransbordo.hora.to_list()[i]\n",
    "    datetimeFlorestaTransbordo.append(datetime.combine(temp1, temp2))\n",
    "\n",
    "datetimeMaringaFazendeiros = []\n",
    "for i in range(0,len(maringaFazendeiros)):\n",
    "    temp1 = maringaFazendeiros.data.to_list()[i]\n",
    "    temp2 = maringaFazendeiros.hora.to_list()[i]\n",
    "    datetimeMaringaFazendeiros.append(datetime.combine(temp1, temp2))\n",
    "\n",
    "datetimeMaringaTransbordo = []\n",
    "for i in range(0,len(maringaTransbordo)):\n",
    "    temp1 = maringaTransbordo.data.to_list()[i]\n",
    "    temp2 = maringaTransbordo.hora.to_list()[i]\n",
    "    datetimeMaringaTransbordo.append(datetime.combine(temp1, temp2))\n"
   ]
  },
  {
   "cell_type": "code",
   "execution_count": null,
   "metadata": {},
   "outputs": [],
   "source": [
    "# Cria a coluna com data e hora nas databases\n",
    "florestaFazendeiros.insert(1, \"dataCerta\", datetimeFlorestaFazendeiros)\n",
    "florestaTransbordo.insert(1, \"dataCerta\", datetimeFlorestaTransbordo)\n",
    "maringaFazendeiros.insert(1, \"dataCerta\", datetimeMaringaFazendeiros)\n",
    "maringaTransbordo.insert(1, \"dataCerta\", datetimeMaringaTransbordo)"
   ]
  },
  {
   "cell_type": "code",
   "execution_count": null,
   "metadata": {},
   "outputs": [],
   "source": [
    "#Junta as bases de Fazendeiros e de Transbordo\n",
    "floresta = pd.concat([florestaFazendeiros, florestaTransbordo])\n",
    "maringa = pd.concat([maringaFazendeiros, maringaTransbordo])\n",
    "\n",
    "# Remove colunas desnecessárias\n",
    "floresta = floresta[[\"dataCerta\", \"peso\", \"unidade\"]]\n",
    "maringa = maringa[[\"dataCerta\", \"peso\", \"unidade\"]]\n",
    "floresta.sort_values(\"dataCerta\")\n",
    "maringa.sort_values(\"dataCerta\")\n",
    "\n"
   ]
  },
  {
   "cell_type": "code",
   "execution_count": null,
   "metadata": {},
   "outputs": [],
   "source": [
    "# Exporta as tabelas finais\n",
    "floresta.to_excel(\"planilhas/floresta.xlsx\", )\n",
    "maringa.to_excel(\"planilhas/maringa.xlsx\")"
   ]
  }
 ],
 "metadata": {
  "interpreter": {
   "hash": "03abcd2623127dd9dcc5f33a6bf735573f61ba8b7aefdbfbb6753f055e79c3ab"
  },
  "kernelspec": {
   "display_name": "Python 3.9.0 ('.env': venv)",
   "language": "python",
   "name": "python3"
  },
  "language_info": {
   "codemirror_mode": {
    "name": "ipython",
    "version": 3
   },
   "file_extension": ".py",
   "mimetype": "text/x-python",
   "name": "python",
   "nbconvert_exporter": "python",
   "pygments_lexer": "ipython3",
   "version": "3.9.0"
  },
  "orig_nbformat": 4
 },
 "nbformat": 4,
 "nbformat_minor": 2
}
