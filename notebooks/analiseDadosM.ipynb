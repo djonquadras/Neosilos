{
 "cells": [
  {
   "cell_type": "markdown",
   "metadata": {},
   "source": [
    "# Análise de Dados Maringá"
   ]
  },
  {
   "cell_type": "code",
   "execution_count": null,
   "metadata": {},
   "outputs": [],
   "source": [
    "# Importa os Resultados do Setor Maringá\n",
    "Maringa1 = pd.read_excel(\"planilhas/ResultadosMaringa/comMaquina2018.xlsx\")\n",
    "Maringa2 = pd.read_excel(\"planilhas/ResultadosMaringa/comMaquina2019.xlsx\")\n",
    "Maringa3 = pd.read_excel(\"planilhas/ResultadosMaringa/comMaquina2020.xlsx\")\n",
    "Maringa4 = pd.read_excel(\"planilhas/ResultadosMaringa/comMaquina2021.xlsx\")\n",
    "Maringa5 = pd.read_excel(\"planilhas/ResultadosMaringa/comMaquina2022.xlsx\")\n",
    "Maringa6 = pd.read_excel(\"planilhas/ResultadosMaringa/SemMaquina.xlsx\")"
   ]
  },
  {
   "cell_type": "markdown",
   "metadata": {},
   "source": []
  }
 ],
 "metadata": {
  "interpreter": {
   "hash": "03abcd2623127dd9dcc5f33a6bf735573f61ba8b7aefdbfbb6753f055e79c3ab"
  },
  "kernelspec": {
   "display_name": "Python 3.9.0 ('.env': venv)",
   "language": "python",
   "name": "python3"
  },
  "language_info": {
   "name": "python",
   "version": "3.9.0"
  },
  "orig_nbformat": 4
 },
 "nbformat": 4,
 "nbformat_minor": 2
}
